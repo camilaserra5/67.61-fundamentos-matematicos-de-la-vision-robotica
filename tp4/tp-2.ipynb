{
 "cells": [
  {
   "cell_type": "markdown",
   "id": "59a25906",
   "metadata": {},
   "source": [
    "# Implementar 2: Binarización local, método Bernsen"
   ]
  },
  {
   "cell_type": "markdown",
   "id": "03ab2600",
   "metadata": {},
   "source": [
    "Implementar para una ventana de 3x3, 5x5 o 7x7.\n",
    "\n",
    "Contraste: Máximo-Mínimo\n",
    "\n",
    "gris_medio: Media"
   ]
  },
  {
   "cell_type": "code",
   "execution_count": null,
   "id": "06226169",
   "metadata": {},
   "outputs": [],
   "source": [
    "%matplotlib inline\n",
    "\n",
    "import numpy as np\n",
    "import cv2 as cv\n",
    "import matplotlib.pyplot as plt"
   ]
  },
  {
   "cell_type": "code",
   "execution_count": null,
   "id": "bd6c533f",
   "metadata": {},
   "outputs": [],
   "source": [
    "def get_window(image, center_x, center_y, size):\n",
    "    image_height, image_width = image.shape\n",
    "    window_half_size = np.floor(size/2).astype(int)\n",
    "\n",
    "    top = max(center_y - window_half_size, 0)\n",
    "    bottom = min(center_y + window_half_size, image_height - 1)\n",
    "    left = max(center_x - window_half_size, 0) \n",
    "    right = min(center_x + window_half_size, image_width - 1)\n",
    "\n",
    "    return image[top:bottom, left:right]\n"
   ]
  },
  {
   "cell_type": "code",
   "execution_count": null,
   "id": "b92961c1",
   "metadata": {},
   "outputs": [],
   "source": [
    "#if(contraste_local < contraste_referencia)\n",
    "#  pixel=(gris_medio >= 128)? objeto:background\n",
    "#else\n",
    "#  pixel=(pixel >= gris_medio)? objeto:background\n",
    "\n",
    "def bernsen(image, contrast, window_size):\n",
    "    rows = image.shape[0]\n",
    "    columns = image.shape[1]\n",
    "    output = image.copy()\n",
    "\n",
    "    for i in range(rows):\n",
    "        for j in range(columns):\n",
    "            window = get_window(image, j, i, window_size)\n",
    "            local_contrast = np.max(window) - np.min(window)\n",
    "            mean = np.mean(window)\n",
    "            if local_contrast < contrast:\n",
    "                if mean >= 128:\n",
    "                    output[i, j] = 255\n",
    "                else:\n",
    "                    output[i, j] = 0\n",
    "            else:\n",
    "                if output[i, j] >= mean:\n",
    "                    output[i, j] = 255\n",
    "                else:\n",
    "                    output[i, j] = 0\n",
    "    return output"
   ]
  },
  {
   "cell_type": "code",
   "execution_count": null,
   "id": "700f003b",
   "metadata": {},
   "outputs": [],
   "source": [
    "original_image = cv.imread(\"Sombreado.png\", cv.IMREAD_GRAYSCALE)\n",
    "window_sizes = (3, 5, 7)\n",
    "contrast = 2"
   ]
  },
  {
   "cell_type": "code",
   "execution_count": null,
   "id": "6b1958f2",
   "metadata": {},
   "outputs": [],
   "source": [
    "print(\"Original\")\n",
    "plt.imshow(original_image, cmap='gray', vmin=0, vmax=255)\n",
    "plt.show()\n",
    "\n",
    "for window_size in window_sizes:\n",
    "    print(\"Processing Bernsen with window size {0}X{0}...\\n\".format(window_size))\n",
    "    binarized_image = bernsen(original_image, contrast, window_size)\n",
    "    print(\"Binarized - Bernsen {0}X{0}\".format(window_size))\n",
    "    plt.figure(window_size)\n",
    "    plt.imshow(binarized_image, cmap='gray', vmin=0, vmax=1)\n",
    "    plt.show()\n"
   ]
  }
 ],
 "metadata": {
  "kernelspec": {
   "display_name": "Python 3",
   "language": "python",
   "name": "python3"
  },
  "language_info": {
   "codemirror_mode": {
    "name": "ipython",
    "version": 3
   },
   "file_extension": ".py",
   "mimetype": "text/x-python",
   "name": "python",
   "nbconvert_exporter": "python",
   "pygments_lexer": "ipython3",
   "version": "3.8.8"
  }
 },
 "nbformat": 4,
 "nbformat_minor": 5
}
