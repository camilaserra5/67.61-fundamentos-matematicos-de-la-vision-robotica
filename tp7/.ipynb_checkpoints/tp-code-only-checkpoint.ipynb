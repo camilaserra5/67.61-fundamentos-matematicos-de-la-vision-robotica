{
 "cells": [
  {
   "cell_type": "code",
   "execution_count": null,
   "id": "ebac2d03",
   "metadata": {},
   "outputs": [],
   "source": [
    "%matplotlib inline\n",
    "import numpy as np\n",
    "import cv2 as cv\n",
    "import matplotlib.pyplot as plt"
   ]
  },
  {
   "cell_type": "code",
   "execution_count": null,
   "id": "c73a8559",
   "metadata": {},
   "outputs": [],
   "source": [
    "original_image = cv.imread(\"bloques1.jpg\")\n",
    "cropped_image = original_image[730:3300,240:2500]\n",
    "grayscale_image = cv.cvtColor(cropped_image, cv.COLOR_BGR2GRAY)\n",
    "blurred_image = cv.GaussianBlur(grayscale_image, (19,19),0)\n",
    "print(\"CROPPED IMAGE:\")\n",
    "\n",
    "plt.figure(\"CROPPED\")\n",
    "\n",
    "plt.imshow(blurred_image, cmap='gray')\n",
    "plt.show()"
   ]
  },
  {
   "cell_type": "code",
   "execution_count": null,
   "id": "c52a807c",
   "metadata": {},
   "outputs": [],
   "source": [
    "otsu_binarized_image = cv.threshold(blurred_image, 120, 255, cv.THRESH_BINARY + cv.THRESH_OTSU)[1]\n",
    "print(\"BINARIZED:\")\n",
    "plt.imshow(otsu_binarized_image, cmap='gray', vmin=0, vmax=1)\n",
    "plt.show()\n",
    "\n",
    "structuring_element = cv.getStructuringElement(cv.MORPH_ELLIPSE, (15,15))\n",
    "\n",
    "eroded_image = cv.erode(otsu_binarized_image, structuring_element, iterations = 1)\n",
    "print(\"ERODE:\")\n",
    "plt.imshow(eroded_image, cmap='gray')\n",
    "plt.show()\n",
    "\n",
    "dilated_image = cv.dilate(otsu_binarized_image, structuring_element, iterations = 1)\n",
    "print(\"DILATE:\")\n",
    "plt.imshow(dilated_image, cmap='gray')\n",
    "plt.show()\n",
    "\n",
    "opened_image = cv.morphologyEx(otsu_binarized_image, cv.MORPH_OPEN, structuring_element)\n",
    "print(\"OPEN:\")\n",
    "plt.imshow(opened_image, cmap='gray')\n",
    "plt.show()\n",
    "\n",
    "\n",
    "closed_image = cv.morphologyEx(otsu_binarized_image, cv.MORPH_CLOSE, structuring_element)\n",
    "print(\"CLOSE:\")\n",
    "plt.imshow(closed_image, cmap='gray')\n",
    "plt.show()\n",
    "\n",
    "open_closed_image = cv.morphologyEx(otsu_binarized_image, cv.MORPH_OPEN, structuring_element)\n",
    "open_closed_image = cv.morphologyEx(open_closed_image, cv.MORPH_CLOSE, structuring_element)\n",
    "print(\"OPEN + CLOSE:\")\n",
    "plt.imshow(open_closed_image, cmap='gray')\n",
    "plt.show()\n"
   ]
  },
  {
   "cell_type": "code",
   "execution_count": null,
   "id": "fb1168d0",
   "metadata": {},
   "outputs": [],
   "source": [
    "def draw_contours(image, contours):\n",
    "    cv.drawContours(image, contours, -1, (255,0,0), 5)\n",
    "    for index in range(len(contours)):\n",
    "        moment = cv.moments(contours[index])\n",
    "        cv.putText(image, str(index),\n",
    "                   (int(moment['m10']/moment['m00']), int(moment['m01']/moment['m00'])),\n",
    "                   cv.FONT_HERSHEY_COMPLEX, 3, (255,0,0), 5)\n",
    "    print(\"CONTOURS:\")\n",
    "    plt.imshow(image)\n",
    "    plt.show()\n",
    "\n",
    "contours = cv.findContours(open_closed_image, cv.RETR_TREE, cv.CHAIN_APPROX_NONE)[0]\n",
    "\n",
    "draw_contours(cropped_image.copy(), contours)\n"
   ]
  },
  {
   "cell_type": "code",
   "execution_count": null,
   "id": "193a8d17",
   "metadata": {},
   "outputs": [],
   "source": [
    "def calculate_aspect_ratio(contour):\n",
    "    min_area_rect = cv.minAreaRect(contour)\n",
    "    width,height = min_area_rect[1]\n",
    "    if (width > height):\n",
    "        return float(height)/width\n",
    "    else:\n",
    "        return float(width)/height\n",
    "    # min_area_rect = cv.minAreaRect(contour)\n",
    "    # box = cv.boxPoints(min_area_rect)\n",
    "    # box = np.int0(box)\n",
    "    # x,y,w,h = cv.boundingRect(contour)\n",
    "\n",
    "\n",
    "for index in range(len(contours)):\n",
    "    contour = contours[index]\n",
    "    print(\"CONTOUR INDEX {}\".format(index))\n",
    "    print(\"AREA: {}\".format(cv.contourArea(contour)))\n",
    "    print(\"PERIMETER: {}\".format(cv.arcLength(contour, True)))\n",
    "    print(\"ANGLE: {}\".format(cv.fitEllipse(contour)[2]))\n",
    "    print(\"ASPECT RATIO: {}\".format(calculate_aspect_ratio(contour)))\n",
    "    print(\"\\n\")\n"
   ]
  }
 ],
 "metadata": {
  "kernelspec": {
   "display_name": "Python 3",
   "language": "python",
   "name": "python3"
  },
  "language_info": {
   "codemirror_mode": {
    "name": "ipython",
    "version": 3
   },
   "file_extension": ".py",
   "mimetype": "text/x-python",
   "name": "python",
   "nbconvert_exporter": "python",
   "pygments_lexer": "ipython3",
   "version": "3.8.10"
  }
 },
 "nbformat": 4,
 "nbformat_minor": 5
}
