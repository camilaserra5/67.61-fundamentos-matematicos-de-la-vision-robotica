{
 "cells": [
  {
   "cell_type": "markdown",
   "id": "f43ec21c",
   "metadata": {},
   "source": [
    "## Imports"
   ]
  },
  {
   "cell_type": "code",
   "execution_count": null,
   "id": "ebac2d03",
   "metadata": {},
   "outputs": [],
   "source": [
    "%matplotlib inline\n",
    "import numpy as np\n",
    "import cv2 as cv\n",
    "import matplotlib.pyplot as plt"
   ]
  },
  {
   "cell_type": "markdown",
   "id": "904849c7",
   "metadata": {},
   "source": [
    "## Preparación de la imagen\n",
    "\n",
    "Se preparó la imagen aplicándole un suavizado gaussiano para eliminar ruido.\n",
    "Adicionalemnte, dado que sólo nos interesan los bloques, se recortó la imagen para eliminar informacióin innecesaria que puee generar resultados erróneos (este podría ser un paso de calibración que se haría periódicamente para asegurarse que el recorte de la imagen contenga siempre en el área de trabajo)."
   ]
  },
  {
   "cell_type": "code",
   "execution_count": null,
   "id": "c73a8559",
   "metadata": {},
   "outputs": [],
   "source": [
    "original_image = cv.imread(\"bloques1.jpg\")\n",
    "cropped_image = original_image[730:3300,240:2500]\n",
    "grayscale_image = cv.cvtColor(cropped_image, cv.COLOR_BGR2GRAY)\n",
    "blurred_image = cv.GaussianBlur(grayscale_image, (19,19),0)\n",
    "print(\"CROPPED IMAGE:\")\n",
    "\n",
    "plt.figure(\"CROPPED\")\n",
    "\n",
    "plt.imshow(blurred_image, cmap='gray')\n",
    "plt.show()"
   ]
  },
  {
   "cell_type": "markdown",
   "id": "eddf5f42",
   "metadata": {},
   "source": [
    "## Prueba de operaciones morfológicas\n",
    "\n",
    "Se realizó la binarización por el método e **Otzu** y se realizaron pruebas con las distintas operaciones morfológicas vistas en clase (**erosión**, **dilatación**, **apertura**, **cierre**, y **apertura + cierre**) para determinar cual es la que mejor se ajusta a nuestro caso."
   ]
  },
  {
   "cell_type": "code",
   "execution_count": null,
   "id": "c52a807c",
   "metadata": {},
   "outputs": [],
   "source": [
    "otsu_binarized_image = cv.threshold(blurred_image, 120, 255, cv.THRESH_BINARY + cv.THRESH_OTSU)[1]\n",
    "print(\"BINARIZED:\")\n",
    "plt.imshow(otsu_binarized_image, cmap='gray', vmin=0, vmax=1)\n",
    "plt.show()\n",
    "\n",
    "structuring_element = cv.getStructuringElement(cv.MORPH_ELLIPSE, (15,15))\n",
    "\n",
    "eroded_image = cv.erode(otsu_binarized_image, structuring_element, iterations = 1)\n",
    "print(\"ERODE:\")\n",
    "plt.imshow(eroded_image, cmap='gray')\n",
    "plt.show()\n",
    "\n",
    "dilated_image = cv.dilate(otsu_binarized_image, structuring_element, iterations = 1)\n",
    "print(\"DILATE:\")\n",
    "plt.imshow(dilated_image, cmap='gray')\n",
    "plt.show()\n",
    "\n",
    "opened_image = cv.morphologyEx(otsu_binarized_image, cv.MORPH_OPEN, structuring_element)\n",
    "print(\"OPEN:\")\n",
    "plt.imshow(opened_image, cmap='gray')\n",
    "plt.show()\n",
    "\n",
    "\n",
    "closed_image = cv.morphologyEx(otsu_binarized_image, cv.MORPH_CLOSE, structuring_element)\n",
    "print(\"CLOSE:\")\n",
    "plt.imshow(closed_image, cmap='gray')\n",
    "plt.show()\n",
    "\n",
    "open_closed_image = cv.morphologyEx(otsu_binarized_image, cv.MORPH_OPEN, structuring_element)\n",
    "open_closed_image = cv.morphologyEx(open_closed_image, cv.MORPH_CLOSE, structuring_element)\n",
    "print(\"OPEN + CLOSE:\")\n",
    "plt.imshow(open_closed_image, cmap='gray')\n",
    "plt.show()\n"
   ]
  },
  {
   "cell_type": "markdown",
   "id": "4011755a",
   "metadata": {},
   "source": [
    "Se verifica que se obtuvo el mejor resultado con **apertura + cierre**."
   ]
  },
  {
   "cell_type": "markdown",
   "id": "06cd0de0",
   "metadata": {},
   "source": [
    "## Contornos\n",
    "Se obtuvieron los contornos de la imagen procesada."
   ]
  },
  {
   "cell_type": "code",
   "execution_count": null,
   "id": "fb1168d0",
   "metadata": {},
   "outputs": [],
   "source": [
    "def draw_contours(image, contours):\n",
    "    cv.drawContours(image, contours, -1, (255,0,0), 5)\n",
    "    for index in range(len(contours)):\n",
    "        moment = cv.moments(contours[index])\n",
    "        cv.putText(image, str(index),\n",
    "                   (int(moment['m10']/moment['m00']), int(moment['m01']/moment['m00'])),\n",
    "                   cv.FONT_HERSHEY_COMPLEX, 3, (255,0,0), 5)\n",
    "    print(\"CONTOURS:\")\n",
    "    plt.imshow(image)\n",
    "    plt.show()\n",
    "\n",
    "contours = cv.findContours(open_closed_image, cv.RETR_TREE, cv.CHAIN_APPROX_NONE)[0]\n",
    "\n",
    "draw_contours(cropped_image.copy(), contours)\n"
   ]
  },
  {
   "cell_type": "markdown",
   "id": "15161882",
   "metadata": {},
   "source": [
    "## Operaciones\n",
    "Se realizaron las operaciones solicitadas en el enunciado, **área**, **perímetro**, **orientación** y **relación de aspecto**."
   ]
  },
  {
   "cell_type": "code",
   "execution_count": null,
   "id": "193a8d17",
   "metadata": {},
   "outputs": [],
   "source": [
    "def calculate_aspect_ratio(contour):\n",
    "    min_area_rect = cv.minAreaRect(contour)\n",
    "    width,height = min_area_rect[1]\n",
    "    if (width > height):\n",
    "        return float(height)/width\n",
    "    else:\n",
    "        return float(width)/height\n",
    "    # min_area_rect = cv.minAreaRect(contour)\n",
    "    # box = cv.boxPoints(min_area_rect)\n",
    "    # box = np.int0(box)\n",
    "    # x,y,w,h = cv.boundingRect(contour)\n",
    "\n",
    "\n",
    "for index in range(len(contours)):\n",
    "    contour = contours[index]\n",
    "    print(\"CONTOUR INDEX {}\".format(index))\n",
    "    print(\"AREA: {}\".format(cv.contourArea(contour)))\n",
    "    print(\"PERIMETER: {}\".format(cv.arcLength(contour, True)))\n",
    "    print(\"ANGLE: {}\".format(cv.fitEllipse(contour)[2]))\n",
    "    print(\"ASPECT RATIO: {}\".format(calculate_aspect_ratio(contour)))\n",
    "    print(\"\\n\")\n"
   ]
  },
  {
   "cell_type": "markdown",
   "id": "94693106",
   "metadata": {},
   "source": [
    "## Conclusiones\n",
    "Se observa que como en el trabajo práctico anterior, no se pudo separar correctamente los bloques apilados pero esta técnica funciona bien cuando los bloques están separados.\n",
    "\n",
    "Esto se observa en la imagen y en las áreas, perímetros y aspect ratios:\n",
    "- Los valores de los bloques **0**, **3** y **4** son muy similares entre si.\n",
    "- En el bloque **2** se observa que esos valores son bastante distintos a los anteriores debido a que toma gran parte del bloque que tiene abajo.\n",
    "- Para el bloque **1**, estos valores son bastante parecidos a los de los bloques **0**, **3** y **4** con lo cual podría dar un falso positivo.\n",
    "\n",
    "Depende de la aplicación, tal vez sea conveniente ajustar el proceso para que tome los bloques apilados como un solo bloque."
   ]
  }
 ],
 "metadata": {
  "kernelspec": {
   "display_name": "Python 3",
   "language": "python",
   "name": "python3"
  },
  "language_info": {
   "codemirror_mode": {
    "name": "ipython",
    "version": 3
   },
   "file_extension": ".py",
   "mimetype": "text/x-python",
   "name": "python",
   "nbconvert_exporter": "python",
   "pygments_lexer": "ipython3",
   "version": "3.8.10"
  }
 },
 "nbformat": 4,
 "nbformat_minor": 5
}
