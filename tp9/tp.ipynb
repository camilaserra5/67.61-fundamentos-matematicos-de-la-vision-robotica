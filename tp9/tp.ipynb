{
 "cells": [
  {
   "cell_type": "markdown",
   "id": "e3ec7174",
   "metadata": {},
   "source": [
    "# Imports"
   ]
  },
  {
   "cell_type": "code",
   "execution_count": null,
   "id": "407c794f",
   "metadata": {},
   "outputs": [],
   "source": [
    "%matplotlib inline\n",
    "\n",
    "import cv2 as cv\n",
    "import numpy as np\n",
    "import matplotlib.pyplot as plt\n",
    "import glob\n",
    "import warnings\n",
    "\n",
    "warnings.filterwarnings('ignore')"
   ]
  },
  {
   "cell_type": "markdown",
   "id": "a94310dc",
   "metadata": {},
   "source": [
    "# Patrón\n",
    "\n",
    "Se utilizará el patrón de tablero de ajedrez de **9X6** de **opencv.org**."
   ]
  },
  {
   "cell_type": "code",
   "execution_count": null,
   "id": "2ede6139",
   "metadata": {},
   "outputs": [],
   "source": [
    "pattern = cv.imread(\"pattern.png\")\n",
    "plt.imshow(pattern)\n",
    "plt.show()"
   ]
  },
  {
   "cell_type": "markdown",
   "id": "b71e6d3a",
   "metadata": {},
   "source": [
    "# Fotos\n",
    "Se utilizarán las siguientes fotos para realiza la calibración."
   ]
  },
  {
   "cell_type": "code",
   "execution_count": null,
   "id": "aa0e1ba6",
   "metadata": {},
   "outputs": [],
   "source": [
    "filenames = glob.glob(\"./pictures/*\")\n",
    "\n",
    "for filename in filenames:\n",
    "    print(\"processing image {0}...\".format(filename))\n",
    "    image = cv.imread(filename)\n",
    "    plt.figure(filename)\n",
    "    plt.imshow(image)\n",
    "    plt.show()"
   ]
  },
  {
   "cell_type": "markdown",
   "id": "6193e58c",
   "metadata": {},
   "source": [
    "# Prueba de flags para el método _findChessboardCorners_\n",
    "Para esta prueba se utilizará una sola imagen."
   ]
  },
  {
   "cell_type": "code",
   "execution_count": null,
   "id": "fa1adade",
   "metadata": {},
   "outputs": [],
   "source": [
    "chessboard_size = (6, 9)\n",
    "flag_names = (\"cv.CALIB_CB_ADAPTIVE_THRESH\", \"cv.CALIB_CB_FILTER_QUADS\",\n",
    "              \"cv.CALIB_CB_NORMALIZE_IMAGE\", \"cv.CALIB_CB_FAST_CHECK\")\n",
    "\n",
    "for flag_name in flag_names:\n",
    "    print(\"Testing flag {0}...\".format(flag_name))\n",
    "    flag = eval(flag_name)\n",
    "    original_image = cv.imread(\"pictures/05-center.jpg\")\n",
    "    grayscale_image = cv.cvtColor(original_image, cv.COLOR_BGR2GRAY)\n",
    "    ret, corners = cv.findChessboardCorners(grayscale_image, chessboard_size, flags=flag)\n",
    "    if ret:\n",
    "        print(\"Results for flag {0}: \".format(flag_name))\n",
    "        print(corners)\n",
    "        cv.drawChessboardCorners(original_image, chessboard_size, corners, ret)\n",
    "        plt.figure(flag_name)\n",
    "        plt.imshow(original_image)\n",
    "        plt.show()\n",
    "    else:\n",
    "        print(\"No results for flag {0}: \".format(flag_name))"
   ]
  },
  {
   "cell_type": "markdown",
   "id": "4966c8d5",
   "metadata": {},
   "source": [
    "Se observó que el flag **CALIB_CB_NORMALIZE_IMAGE** no devuelve resultados. Para los otros 3 flags, no se observan diferencias a simple vista lo que se corrobora al comparar los puntos encontrados."
   ]
  },
  {
   "cell_type": "markdown",
   "id": "d6d5e7c7",
   "metadata": {},
   "source": [
    "# Prueba de iteraciones para el método _cornerSubPix_\n",
    "Para esta prueba se utilizará una sola imagen.\n"
   ]
  },
  {
   "cell_type": "code",
   "execution_count": null,
   "id": "7aea4543",
   "metadata": {},
   "outputs": [],
   "source": [
    "iterations = (5, 10, 15, 20, 25)\n",
    "\n",
    "for iteration in iterations:\n",
    "    print(\"Testing {0} iterations...\".format(iteration))\n",
    "    original_image = cv.imread(\"pictures/05-center.jpg\")\n",
    "    grayscale_image = cv.cvtColor(original_image, cv.COLOR_BGR2GRAY)\n",
    "    ret, corners = cv.findChessboardCorners(grayscale_image, chessboard_size, flags=cv.CALIB_CB_ADAPTIVE_THRESH)\n",
    "    if ret:\n",
    "        print(\"Results for {0} iterations: \".format(iteration))\n",
    "        print(corners)\n",
    "        criteria = (cv.TERM_CRITERIA_EPS + cv.TERM_CRITERIA_MAX_ITER, iteration, 0.001)\n",
    "        corners_subpix = cv.cornerSubPix(grayscale_image, corners, (5, 5), (-1, -1), criteria)\n",
    "        cv.drawChessboardCorners(original_image, chessboard_size, corners_subpix, ret)\n",
    "        plt.figure()\n",
    "        plt.imshow(cv.cvtColor(original_image, cv.COLOR_BGR2RGB))\n",
    "        plt.show()"
   ]
  },
  {
   "cell_type": "markdown",
   "id": "218eeab7",
   "metadata": {},
   "source": [
    "No se observan diferencias a simple vista lo que se corrobora al comparar los puntos encontrados. Se utilizarán **5** iteraciones."
   ]
  },
  {
   "cell_type": "markdown",
   "id": "d57bf0d3",
   "metadata": {},
   "source": [
    "# Identificación de puntos imagen y puntos objeto"
   ]
  },
  {
   "cell_type": "code",
   "execution_count": null,
   "id": "f43d2f6f",
   "metadata": {},
   "outputs": [],
   "source": [
    "max_iterations = 5\n",
    "epsilon = 0.001\n",
    "criteria = (cv.TERM_CRITERIA_EPS + cv.TERM_CRITERIA_MAX_ITER, max_iterations, epsilon)\n",
    "world_points = list()\n",
    "image_points = list()\n",
    "chessborard_world_points = np.zeros((np.prod(chessboard_size), 3), dtype=np.float32)\n",
    "chessborard_world_points[:, :2] = np.mgrid[0:chessboard_size[0], 0:chessboard_size[1]].T.reshape(-1, 2)\n",
    "\n",
    "for filename in filenames:\n",
    "    print(\"processing image {0}...\".format(filename))\n",
    "    original_image = cv.imread(filename)\n",
    "    grayscale_image = cv.cvtColor(original_image, cv.COLOR_BGR2GRAY)\n",
    "    ret, corners = cv.findChessboardCorners(grayscale_image, chessboard_size, flags=cv.CALIB_CB_ADAPTIVE_THRESH)\n",
    "    if ret:\n",
    "        world_points.append(chessborard_world_points)\n",
    "        corners_subpix = cv.cornerSubPix(grayscale_image, corners, (5, 5), (-1, -1), criteria)\n",
    "        image_points.append(corners_subpix)\n",
    "        cv.drawChessboardCorners(original_image, chessboard_size, corners_subpix, ret)\n",
    "        plt.figure()\n",
    "        plt.imshow(cv.cvtColor(original_image, cv.COLOR_BGR2RGB))\n",
    "        plt.show()"
   ]
  },
  {
   "cell_type": "markdown",
   "id": "95479bc7",
   "metadata": {},
   "source": [
    "Se identificaron correctamente los puntos del tablero de ajedrez, ahora se procederá a la calibración de la cámara."
   ]
  },
  {
   "cell_type": "markdown",
   "id": "f8f92816",
   "metadata": {},
   "source": [
    "# Calibración de cámara"
   ]
  },
  {
   "cell_type": "code",
   "execution_count": null,
   "id": "1efae1c0",
   "metadata": {},
   "outputs": [],
   "source": [
    "image = cv.imread(filenames[0])\n",
    "grayscale_image = cv.cvtColor(image, cv.COLOR_BGR2GRAY)\n",
    "image_height, image_width = grayscale_image.shape\n",
    "ret, camera_matrix, distortion_coefficients, rvecs, tvecs = cv.calibrateCamera(\n",
    "    world_points, image_points,(image_width, image_height), None, None)\n",
    "\n",
    "print(\"Camera Matrix: \\n{0}\".format(camera_matrix))\n",
    "print(\"Distortion Coefficients: \\n{0}\".format(distortion_coefficients))"
   ]
  },
  {
   "cell_type": "markdown",
   "id": "09e4513b",
   "metadata": {},
   "source": [
    "# Rectificación de imágenes"
   ]
  },
  {
   "cell_type": "code",
   "execution_count": null,
   "id": "0266a05c",
   "metadata": {},
   "outputs": [],
   "source": [
    "for filename in filenames:\n",
    "    print(\"processing image {0}...\".format(filename))\n",
    "    image = cv.imread(filename)\n",
    "    undistorted_image = cv.undistort(image, camera_matrix, distortion_coefficients)\n",
    "    plt.figure()\n",
    "    plt.imshow(undistorted_image)\n",
    "    plt.show()"
   ]
  },
  {
   "cell_type": "markdown",
   "id": "b89a5ada",
   "metadata": {},
   "source": [
    "# Chequeo de los resultados\n",
    "Se dibujará un primsma que abarque el tablero de ajedrez para verificar que los resultados son correctos."
   ]
  },
  {
   "cell_type": "code",
   "execution_count": null,
   "id": "ec0342bc",
   "metadata": {},
   "outputs": [],
   "source": [
    "world_points = np.float32([[6, -1, 0], [6, 9, 0], [-1, 9, 0], [-1, -1, 0],\n",
    "                        [6, -1, -1], [6, 9, -1], [-1, 9, -1], [-1, -1, -1]])\n",
    "color = (0, 0, 255)\n",
    "line_width = 5\n",
    "\n",
    "\n",
    "for i in range(len(filenames)):\n",
    "    print(\"processing image {0}...\".format(filenames[i]))\n",
    "    image = cv.imread(filenames[i])\n",
    "    image_points = cv.projectPoints(world_points, rvecs[i], tvecs[i], camera_matrix,\n",
    "                                    distortion_coefficients)[0]\n",
    "    image_points = image_points[:, 0, :]\n",
    "    cv.line(image, tuple(image_points[0]), tuple(image_points[1]), color, line_width)\n",
    "    cv.line(image, tuple(image_points[1]), tuple(image_points[2]), color, line_width)\n",
    "    cv.line(image, tuple(image_points[2]), tuple(image_points[3]), color, line_width)\n",
    "    cv.line(image, tuple(image_points[3]), tuple(image_points[0]), color, line_width)\n",
    "    cv.line(image, tuple(image_points[0]), tuple(image_points[4]), color, line_width)\n",
    "    cv.line(image, tuple(image_points[1]), tuple(image_points[5]), color, line_width)\n",
    "    cv.line(image, tuple(image_points[2]), tuple(image_points[6]), color, line_width)\n",
    "    cv.line(image, tuple(image_points[3]), tuple(image_points[7]), color, line_width)\n",
    "    cv.line(image, tuple(image_points[4]), tuple(image_points[5]), color, line_width)\n",
    "    cv.line(image, tuple(image_points[5]), tuple(image_points[6]), color, line_width)\n",
    "    cv.line(image, tuple(image_points[6]), tuple(image_points[7]), color, line_width)\n",
    "    cv.line(image, tuple(image_points[7]), tuple(image_points[4]), color, line_width)\n",
    "\n",
    "    plt.figure()\n",
    "    plt.imshow(image[..., ::-1])\n",
    "    plt.show()"
   ]
  },
  {
   "cell_type": "markdown",
   "id": "97e9782b",
   "metadata": {},
   "source": [
    "Se verifica que se se dibuja el prisma correctamente."
   ]
  }
 ],
 "metadata": {
  "kernelspec": {
   "display_name": "Python 3",
   "language": "python",
   "name": "python3"
  },
  "language_info": {
   "codemirror_mode": {
    "name": "ipython",
    "version": 3
   },
   "file_extension": ".py",
   "mimetype": "text/x-python",
   "name": "python",
   "nbconvert_exporter": "python",
   "pygments_lexer": "ipython3",
   "version": "3.8.10"
  }
 },
 "nbformat": 4,
 "nbformat_minor": 5
}
