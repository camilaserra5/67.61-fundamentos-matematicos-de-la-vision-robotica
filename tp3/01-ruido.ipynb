{
 "cells": [
  {
   "cell_type": "markdown",
   "metadata": {},
   "source": [
    "# Análisis estadístico del ruido"
   ]
  },
  {
   "cell_type": "code",
   "execution_count": null,
   "metadata": {
    "pycharm": {
     "name": "#%%\n"
    }
   },
   "outputs": [],
   "source": [
    "import cv2\n",
    "import numpy as np\n",
    "import matplotlib.pyplot as plt\n",
    "from glob import glob\n",
    "%matplotlib inline"
   ]
  },
  {
   "cell_type": "code",
   "execution_count": null,
   "metadata": {},
   "outputs": [],
   "source": [
    "imgs = []\n",
    "img_fnames = glob('./imgs-ruido/*.jpg')\n",
    "for fname in img_fnames:\n",
    "    img = cv2.imread(fname)\n",
    "    img = cv2.cvtColor(img, cv2.COLOR_BGR2RGB)\n",
    "    if img.shape[0] > img.shape[1]:\n",
    "        img = cv2.transpose(img)\n",
    "    imgs.append(img)\n",
    "\n",
    "print(\"Se cargaron {0} imágenes\".format(len(imgs)))\n"
   ]
  },
  {
   "cell_type": "code",
   "execution_count": null,
   "metadata": {
    "pycharm": {
     "name": "#%%\n"
    }
   },
   "outputs": [],
   "source": [
    "print(\"Menor intensidad =\", np.min([imgs]))\n",
    "print(\"Mayor intensidad =\", np.max([imgs]))"
   ]
  },
  {
   "cell_type": "code",
   "execution_count": null,
   "metadata": {
    "pycharm": {
     "name": "#%%\n"
    }
   },
   "outputs": [],
   "source": [
    "## media y desvio std\n",
    "imgs_np = np.stack(imgs)\n",
    "img_media = np.mean(imgs_np, axis=0)\n",
    "img_std = np.std(imgs_np, axis=0)"
   ]
  },
  {
   "cell_type": "code",
   "execution_count": null,
   "metadata": {
    "pycharm": {
     "name": "#%%\n"
    }
   },
   "outputs": [],
   "source": [
    "def dibujar_contorno(title, axs, mat):\n",
    "    X, Y = np.meshgrid(range(len(mat[0])), range(len(mat)))\n",
    "    Z = mat\n",
    "\n",
    "    # decimación para no matar la compu calculando contornos!\n",
    "    dec = 16\n",
    "\n",
    "    cp = axs.contourf(X[::dec], Y[::dec], Z[::dec])\n",
    "    axs.set_title(title)\n",
    "    fig.colorbar(cp, ax=axs)"
   ]
  },
  {
   "cell_type": "code",
   "execution_count": null,
   "metadata": {},
   "outputs": [],
   "source": [
    "fig, axs = plt.subplots(3, 2,figsize=(15,15))\n",
    "\n",
    "for channel, number in [('Red',0), ('Green',1), ('Blue',2)]:\n",
    "    dibujar_contorno('Std ' + channel,axs[number,0], img_std[:,:,number])\n",
    "    dibujar_contorno('Media ' + channel, axs[number,1], img_media[:,:,number])\n",
    "\n",
    "plt.show()"
   ]
  },
  {
   "cell_type": "markdown",
   "metadata": {},
   "source": [
    "Analizando los gráficos de la media, se observa que el ruido que se está incorporando en las fotos obtenidas con este sensor en promedio son:\n",
    "- 15 niveles de intensidad para el color **rojo**.\n",
    "- 11 niveles de intensidad para el color **verde**.\n",
    "- 18 niveles de intensidad para el color **azul**.\n",
    "\n",
    "Respecto a la forma del ruido, dado que se realizó en una habitación completamente oscura y separando lo mas posible la cámara de la luz producida por la pantalla del celular, se asume que se debe a un efecto de viñetado."
   ]
  },
  {
   "cell_type": "markdown",
   "metadata": {},
   "source": [
    "# Estadísticas de ruido: relación entre media y desvío"
   ]
  },
  {
   "cell_type": "code",
   "execution_count": null,
   "metadata": {
    "pycharm": {
     "name": "#%%\n"
    }
   },
   "outputs": [],
   "source": [
    "fig, axs = plt.subplots(3, 1, figsize=(15,30))\n",
    "\n",
    "dec = 100\n",
    "\n",
    "todos_los_rojos_std = np.ravel(img_std[:,:,0])\n",
    "todos_los_rojos_media = np.ravel(img_media[:,:,0])\n",
    "\n",
    "todos_los_verdes_std = np.ravel(img_std[:,:,1])\n",
    "todos_los_verdes_media = np.ravel(img_media[:,:,1])\n",
    "\n",
    "todos_los_azules_std = np.ravel(img_std[:,:,2])\n",
    "todos_los_azules_media = np.ravel(img_media[:,:,2])\n",
    "\n",
    "axs[0].set(xlabel='media' , ylabel='desvío')\n",
    "cb = axs[0].hist2d(todos_los_rojos_media[::dec], todos_los_rojos_std[::dec], bins=100)\n",
    "\n",
    "axs[1].set(xlabel='media' , ylabel='desvío')\n",
    "cb = axs[1].hist2d(todos_los_verdes_media[::dec], todos_los_verdes_std[::dec], bins=100)\n",
    "\n",
    "axs[2].set(xlabel='media' , ylabel='desvío')\n",
    "cb = axs[2].hist2d(todos_los_azules_media[::dec], todos_los_azules_std[::dec], bins=100)\n",
    "\n",
    "plt.show()"
   ]
  },
  {
   "cell_type": "markdown",
   "metadata": {},
   "source": [
    "Se observa que, a diferencia del ejemplo visto en clase, el desvío se mantiene relativamente constante a medida que aumenta la media."
   ]
  },
  {
   "cell_type": "markdown",
   "metadata": {},
   "source": [
    "# Histograma"
   ]
  },
  {
   "cell_type": "code",
   "execution_count": null,
   "metadata": {
    "pycharm": {
     "name": "#%%\n"
    }
   },
   "outputs": [],
   "source": [
    "dec = 100\n",
    "plt.figure(figsize=(10,10))\n",
    "plt.title('Histograma')\n",
    "todos_los_rojos = np.ravel(imgs_np[:,:,:,0])\n",
    "todos_los_verdes = np.ravel(imgs_np[:,:,:,1])\n",
    "todos_los_azules = np.ravel(imgs_np[:,:,:,2])\n",
    "plt.grid()\n",
    "i_max = 50\n",
    "_ = plt.hist(todos_los_rojos[::dec], bins=range(i_max), color='red',histtype='step', linewidth=2.0)\n",
    "_ = plt.hist(todos_los_verdes[::dec], bins=range(i_max), color='green', histtype='step', linewidth=2.0)\n",
    "_ = plt.hist(todos_los_azules[::dec], bins=range(i_max), color='blue', histtype='step', linewidth=2.0)\n",
    "\n",
    "_ = plt.hist(np.ravel(imgs_np)[::dec], bins=range(i_max), color='black', histtype='step', linewidth=2.0)\n",
    "plt.legend(['rojo', 'verde', 'azul', 'total'])"
   ]
  },
  {
   "cell_type": "markdown",
   "metadata": {},
   "source": [
    "Se observa que la distribución de ruido no es perfectamente Gaussiana, adicionalmente, para los diferentes canales:\n",
    "- La campana del canal **verde** es la mas asimétrica de todas con su media mas cercana al valor **0**.\n",
    "- La campana del canal **rojo** no es tan asimétrica como la del canal **verde** con su media cercana al valor **8**.\n",
    "- La campana del canal **azul** es menos asimétrica que la del canal **rojo** con su media cercana al valor **9**."
   ]
  }
 ],
 "metadata": {
  "kernelspec": {
   "display_name": "Python 3",
   "language": "python",
   "name": "python3"
  },
  "language_info": {
   "codemirror_mode": {
    "name": "ipython",
    "version": 3
   },
   "file_extension": ".py",
   "mimetype": "text/x-python",
   "name": "python",
   "nbconvert_exporter": "python",
   "pygments_lexer": "ipython3",
   "version": "3.8.10"
  }
 },
 "nbformat": 4,
 "nbformat_minor": 1
}
