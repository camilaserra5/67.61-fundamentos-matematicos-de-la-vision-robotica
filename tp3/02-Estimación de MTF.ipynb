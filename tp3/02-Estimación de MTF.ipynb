{
 "cells": [
  {
   "cell_type": "markdown",
   "metadata": {},
   "source": [
    "# Estimación de MTF"
   ]
  },
  {
   "cell_type": "code",
   "execution_count": null,
   "metadata": {
    "code_folding": [],
    "hide_input": false,
    "pycharm": {
     "name": "#%%\n"
    }
   },
   "outputs": [],
   "source": [
    "import cv2\n",
    "import numpy as np\n",
    "import matplotlib.pyplot as plt\n",
    "%matplotlib inline"
   ]
  },
  {
   "cell_type": "code",
   "execution_count": null,
   "metadata": {},
   "outputs": [],
   "source": [
    "def generar_onda_cuadrada(largo, periodo):\n",
    "    onda = np.arange(1, largo+1)\n",
    "    return list(map(lambda x: -1 if (np.mod(x, periodo) >= periodo/2) else 1, onda))\n",
    "    \n",
    "plt.plot(generar_onda_cuadrada(largo=100, periodo=14), ':o')"
   ]
  },
  {
   "cell_type": "code",
   "execution_count": null,
   "metadata": {
    "code_folding": []
   },
   "outputs": [],
   "source": [
    "n_rep = 8\n",
    "largo_max = 10\n",
    "ys = []\n",
    "\n",
    "anchos =       [ 2, 4, 8,16,32,64]\n",
    "repeticiones = [32,16, 8, 4, 2, 1]\n",
    "\n",
    "for a, r in zip(anchos, repeticiones):\n",
    "    ys.append(generar_onda_cuadrada(a*r, a))\n",
    "\n",
    "y = np.hstack(ys)\n",
    "n_samples = len(y)\n",
    "\n",
    "t = np.linspace(0, n_samples, n_samples)\n",
    "\n",
    "\n",
    "n_show = n_samples//10\n",
    "plt.figure(figsize=(10,4))\n",
    "plt.grid()\n",
    "plt.plot(y, ':o')"
   ]
  },
  {
   "cell_type": "code",
   "execution_count": null,
   "metadata": {
    "hide_input": false
   },
   "outputs": [],
   "source": [
    "y_f = np.fft.fft(y)\n",
    "\n",
    "ancho_pantalla = 1920\n",
    "f = np.linspace(0, 1, n_samples)\n",
    "\n",
    "plt.figure(figsize=(16,4))\n",
    "plt.grid()\n",
    "\n",
    "plt.ylabel('|fft(y)|')\n",
    "plt.plot(f, np.abs(y_f)/n_samples)\n",
    "plt.xlabel('f');\n",
    "\n",
    "x = [1/(a) for a in anchos]\n",
    "labels = [a for a in anchos]\n",
    "plt.figure(figsize=(16,4))\n",
    "plt.ylabel('|fft(y)|')\n",
    "plt.grid()\n",
    "n_show = n_samples\n",
    "plt.plot(f[:n_show], np.abs(y_f[:n_show])/n_samples , ':o')\n",
    "plt.xticks(x, labels);\n",
    "plt.xlabel('P');"
   ]
  },
  {
   "cell_type": "markdown",
   "metadata": {},
   "source": [
    "## 1. Generar patrón"
   ]
  },
  {
   "cell_type": "code",
   "execution_count": null,
   "metadata": {
    "code_folding": [],
    "pycharm": {
     "name": "#%%\n"
    }
   },
   "outputs": [],
   "source": [
    "# ajustar según pantalla donde se saca la foto, poner la resolución del monitor\n",
    "\n",
    "ancho_pantalla = 1920\n",
    "alto_pantalla = 1080\n",
    "\n",
    "alto_franja_central_px = 40\n",
    "\n",
    "oscuro = 64\n",
    "claro = 192\n",
    "\n",
    "medio = (claro+oscuro)/2\n",
    "amplitud = (claro-oscuro)/2\n",
    "\n",
    "onda = medio + amplitud*y\n",
    "\n",
    "centro_izq = 255*np.ones((alto_franja_central_px, ancho_pantalla//2))\n",
    "centro_der =   0*np.ones((alto_franja_central_px, ancho_pantalla//2 - len(onda)))\n",
    "\n",
    "arriba = claro*np.ones((alto_pantalla//2 - alto_franja_central_px//2, ancho_pantalla))\n",
    "centro = np.hstack((centro_izq, np.tile(onda, (alto_franja_central_px, 1)), centro_der))\n",
    "abajo = oscuro*np.ones((alto_pantalla//2 - alto_franja_central_px//2, ancho_pantalla))\n",
    "\n",
    "patron_mtf = np.vstack((arriba, centro, abajo)).astype(np.uint8)\n",
    "\n",
    "patron_mtf = cv2.cvtColor(patron_mtf, cv2.COLOR_GRAY2RGB)\n",
    "\n",
    "plt.imshow(patron_mtf)\n",
    "cv2.imwrite('patron_mtf.png', patron_mtf)"
   ]
  },
  {
   "cell_type": "markdown",
   "metadata": {},
   "source": [
    "![title](patron_mtf.png)"
   ]
  },
  {
   "cell_type": "markdown",
   "metadata": {},
   "source": [
    "## 2. Adquirir patrón"
   ]
  },
  {
   "cell_type": "code",
   "execution_count": null,
   "metadata": {
    "hide_input": false,
    "pycharm": {
     "name": "#%%\n"
    }
   },
   "outputs": [],
   "source": [
    "mtf_leer = cv2.imread('mtf.jpg')\n",
    "mtf_leido_gray = cv2.cvtColor(mtf_leer, cv2.COLOR_BGR2GRAY)\n",
    "plt.imshow(mtf_leido_gray, cmap='gray')"
   ]
  },
  {
   "cell_type": "markdown",
   "metadata": {},
   "source": [
    "## 3. Preprocesar muestra"
   ]
  },
  {
   "cell_type": "code",
   "execution_count": null,
   "metadata": {
    "code_folding": [],
    "hide_input": false
   },
   "outputs": [],
   "source": [
    "## Buscar de pegarle con un corte a la zona del mtf\n",
    "ajustar_linea_mtf = cv2.cvtColor(mtf_leido_gray//4, cv2.COLOR_GRAY2RGB)\n",
    "\n",
    "ancho_foto = mtf_leido_gray.shape[1]\n",
    "\n",
    "fila_mtf = 2070\n",
    "zoom = 1600\n",
    "\n",
    "# rellenar con principio y fin del patrón mtf en la foto:\n",
    "columnas_mtf = slice(0, 5000)\n",
    "\n",
    "ajustar_linea_mtf[fila_mtf, columnas_mtf, 0] = 255\n",
    "\n",
    "plt.figure(figsize=(16,9));\n",
    "plt.imshow(ajustar_linea_mtf);"
   ]
  },
  {
   "cell_type": "code",
   "execution_count": null,
   "metadata": {
    "code_folding": [],
    "hide_input": false
   },
   "outputs": [],
   "source": [
    "# refinamos el corte\n",
    "zoom = 1000\n",
    "fila_mtf = 2070\n",
    "\n",
    "columnas_mtf = slice((ancho_foto//2-zoom//2), (ancho_foto//2+zoom//2))\n"
   ]
  },
  {
   "cell_type": "code",
   "execution_count": null,
   "metadata": {
    "code_folding": [],
    "pycharm": {
     "name": "#%%\n"
    }
   },
   "outputs": [],
   "source": [
    "# dibujamos con más detalle el corte\n",
    "\n",
    "y_est = mtf_leido_gray[fila_mtf, columnas_mtf]\n",
    "\n",
    "plt.figure(figsize=(10,4))\n",
    "plt.plot(y_est)"
   ]
  },
  {
   "cell_type": "code",
   "execution_count": null,
   "metadata": {},
   "outputs": [],
   "source": [
    "# Generamos gráfico para leer donde cortar para recuperar la estimación de la y de arriba\n",
    "\n",
    "# por ahí si no quedó perfectamente centrado necesitan otro valor diferente de +/- 35:\n",
    "claro_est = mtf_leido_gray[fila_mtf-35, columnas_mtf]\n",
    "oscuro_est = mtf_leido_gray[fila_mtf+35, columnas_mtf]\n",
    "\n",
    "%matplotlib notebook\n",
    "plt.figure(figsize=(10,4))\n",
    "plt.plot(y_est)\n",
    "plt.plot(claro_est)\n",
    "plt.plot(oscuro_est)"
   ]
  },
  {
   "cell_type": "code",
   "execution_count": null,
   "metadata": {},
   "outputs": [],
   "source": [
    "# Leer del gráfico de arriba\n",
    "k_start = 530\n",
    "k_end = 1000\n",
    "\n",
    "y_est_r = y_est[k_start:k_end] \n",
    "\n",
    "%matplotlib notebook\n",
    "plt.figure(figsize=(10,4))\n",
    "plt.grid()\n",
    "plt.plot(y_est_r)\n"
   ]
  },
  {
   "cell_type": "code",
   "execution_count": null,
   "metadata": {},
   "outputs": [],
   "source": [
    "# llenar con bordes medidos del gráfico:\n",
    "bordes= [19, 161, 290, 410, 465]\n",
    "         \n",
    "%matplotlib inline\n",
    "plt.figure(figsize=(10,4))\n",
    "plt.grid()\n",
    "plt.plot(y_est_r)\n",
    "\n",
    "for b in bordes:\n",
    "    plt.plot([b, b], [0, 255], ':k')\n"
   ]
  },
  {
   "cell_type": "markdown",
   "metadata": {},
   "source": [
    "## 4. Extraer MTF"
   ]
  },
  {
   "cell_type": "code",
   "execution_count": null,
   "metadata": {
    "code_folding": [],
    "hide_input": false
   },
   "outputs": [],
   "source": [
    "# comparamos con la función que le \"metimos de entrada\" al sistema\n",
    "%matplotlib inline\n",
    "plt.figure(figsize=(16,4))\n",
    "plt.grid()\n",
    "plt.plot(y_est_r)\n",
    "\n",
    "# -9,455 son offsets para que quede bien, cambiarlo según lo que obtuvieron\n",
    "offset_l = -9\n",
    "offset_r = 455\n",
    "\n",
    "x_est=np.linspace(offset_l,offset_r,len(onda))\n",
    "plt.plot(x_est, onda, ':*')"
   ]
  },
  {
   "cell_type": "code",
   "execution_count": null,
   "metadata": {
    "code_folding": [],
    "hide_input": false
   },
   "outputs": [],
   "source": [
    "# idem normalizado\n",
    "%matplotlib inline\n",
    "plt.figure(figsize=(16,4))\n",
    "plt.grid()\n",
    "plt.plot((y_est_r-np.min(y_est_r))/(np.max(y_est_r)-np.min(y_est_r)))\n",
    "x_est=np.linspace(offset_l,offset_r,len(onda))\n",
    "plt.plot(x_est, (onda-np.min(onda))/(np.max(onda)-np.min(onda)), ':*')"
   ]
  },
  {
   "cell_type": "code",
   "execution_count": null,
   "metadata": {
    "code_folding": [],
    "hide_input": false,
    "scrolled": true
   },
   "outputs": [],
   "source": [
    "# Sacar fotos y tomar nota de la geometría de cómo tomaron la foto en particular distancia al monitor \n",
    "# y ángulo subtendido por zona usada para calcular mtf:\n",
    "distancia_monitor_mm = 500\n",
    "ancho_zona_mtf_mm = 70\n",
    "\n",
    "# Calcular ángulo que genera la zona usada para medir mtf (cateto menor en la pantalla \n",
    "# y cateto mayor distancia entre cámara y pantalla)\n",
    "angulo_zona_mtf_deg = np.arctan2(ancho_zona_mtf_mm, distancia_monitor_mm)*180/np.pi\n",
    "ancho_zona_mtf_px = len(y_est_r)"
   ]
  },
  {
   "cell_type": "code",
   "execution_count": null,
   "metadata": {
    "code_folding": []
   },
   "outputs": [],
   "source": [
    "# Calculamos grados por pixel para usar en el gráfico\n",
    "deg_per_px = ancho_zona_mtf_px/angulo_zona_mtf_deg\n"
   ]
  },
  {
   "cell_type": "code",
   "execution_count": null,
   "metadata": {
    "code_folding": [
     4
    ]
   },
   "outputs": [],
   "source": [
    "# medimos el contraste en cada tramo y lo graficamos\n",
    "tramos = np.split(y_est_r, bordes)\n",
    "\n",
    "mtfs = []\n",
    "\n",
    "for tramo in tramos:\n",
    "    i_max = np.max(tramo).astype(np.float32)\n",
    "    i_min = np.min(tramo).astype(np.float32)\n",
    "    mtf = (i_max - i_min) / (i_max + i_min)\n",
    "    mtfs.append(mtf)\n",
    "    print(mtf)\n",
    "    \n",
    "plt.grid(); plt.title('MTF')\n",
    "plt.plot(1/np.array(anchos)*deg_per_px, mtfs, ':o')\n",
    "plt.ylabel('MTF');\n",
    "plt.xlabel('lp/deg');"
   ]
  },
  {
   "cell_type": "markdown",
   "metadata": {},
   "source": [
    "Del gráfico se puede observar que se obtuvo un **MTF 50 de entre 2 y 5 pares de líneas por grado** lo que es significativamente  mas bajo que el de la clase práctica."
   ]
  }
 ],
 "metadata": {
  "kernelspec": {
   "display_name": "Python 3",
   "language": "python",
   "name": "python3"
  },
  "language_info": {
   "codemirror_mode": {
    "name": "ipython",
    "version": 3
   },
   "file_extension": ".py",
   "mimetype": "text/x-python",
   "name": "python",
   "nbconvert_exporter": "python",
   "pygments_lexer": "ipython3",
   "version": "3.8.10"
  }
 },
 "nbformat": 4,
 "nbformat_minor": 1
}
