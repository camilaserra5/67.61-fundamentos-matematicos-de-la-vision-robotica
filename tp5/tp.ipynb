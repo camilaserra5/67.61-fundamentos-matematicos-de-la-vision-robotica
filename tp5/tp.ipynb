{
 "cells": [
  {
   "cell_type": "markdown",
   "id": "08e151ac",
   "metadata": {},
   "source": [
    "## Imports"
   ]
  },
  {
   "cell_type": "code",
   "execution_count": null,
   "id": "d779a47e",
   "metadata": {},
   "outputs": [],
   "source": [
    "%matplotlib inline\n",
    "\n",
    "import numpy as np\n",
    "import cv2 as cv\n",
    "import matplotlib.pyplot as plt"
   ]
  },
  {
   "cell_type": "markdown",
   "id": "bc20bd97",
   "metadata": {},
   "source": [
    "## Funciones auxiliares"
   ]
  },
  {
   "cell_type": "code",
   "execution_count": null,
   "id": "8b911a93",
   "metadata": {},
   "outputs": [],
   "source": [
    "def resize_image(image, scale):\n",
    "    image_height, image_width = image.shape\n",
    "    new_height = int(image_height * scale)\n",
    "    new_width = int(image_width * scale)\n",
    "\n",
    "    return cv.resize(image, (new_width, new_height), cv.INTER_AREA)\n",
    "\n",
    "def find_pattern(image, template):\n",
    "    template_height, template_width = template.shape\n",
    "\n",
    "    result = cv.matchTemplate(grayscale_image, template, cv.TM_CCOEFF_NORMED)\n",
    "\n",
    "    min_val, max_val, min_loc, max_loc = cv.minMaxLoc(result)\n",
    "\n",
    "    top_left = max_loc\n",
    "\n",
    "    bottom_right = (top_left[0] + template_width, top_left[1] + template_height)\n",
    "\n",
    "    return top_left, bottom_right"
   ]
  },
  {
   "cell_type": "markdown",
   "id": "0e01a824",
   "metadata": {},
   "source": [
    "## 1 - Prueba de templates\n",
    "Primero se obtuvieron templates de todas las imágenes intentando dejar afuera la mayor parte de los elementos que pueden variar mas entre las imágenes:\n",
    "- Las orejas que varían por la posición/rotación de Messi en la imagen.\n",
    "- La barba y el pelo que varían en base a cuando fue tomada la foto.\n",
    "Se usará como método de comparación **TM_CCOEFF_NORMED** dado que es uno de los mas utilizados."
   ]
  },
  {
   "cell_type": "code",
   "execution_count": null,
   "id": "92012376",
   "metadata": {},
   "outputs": [],
   "source": [
    "filenames = (\"messi-1.jpg\",\n",
    "             \"messi-2.jpg\",\n",
    "             \"messi-3.jpg\",\n",
    "             \"messi-4.jpg\",\n",
    "             \"messi-5.jpg\",\n",
    "             \"messi-6.jpg\")\n",
    "\n",
    "template_names = (\"messi-1-template.jpg\",\n",
    "                  \"messi-2-template.jpg\",\n",
    "                  \"messi-3-template.jpg\",\n",
    "                  \"messi-4-template.jpg\",\n",
    "                  \"messi-5-template.jpg\",\n",
    "                  \"messi-6-template.jpg\")\n",
    "\n",
    "for template_name in template_names:\n",
    "    print(\"======== Using template {0}\".format(template_name))\n",
    "\n",
    "    template = cv.imread(template_name, cv.IMREAD_GRAYSCALE)\n",
    "\n",
    "    for filename in filenames:\n",
    "        print(\"processing image {0}...\".format(filename))\n",
    "\n",
    "        image = cv.imread(filename)\n",
    "        rgb_image = cv.cvtColor(image, cv.COLOR_BGR2RGB)\n",
    "        grayscale_image = cv.cvtColor(image, cv.COLOR_BGR2GRAY)\n",
    "        top_left, bottom_right = find_pattern(grayscale_image, template)\n",
    "\n",
    "        cv.rectangle(rgb_image, top_left, bottom_right, 255, 2)\n",
    "\n",
    "        plt.figure(filename)\n",
    "        plt.imshow(rgb_image)\n",
    "        plt.show()\n"
   ]
  },
  {
   "cell_type": "markdown",
   "id": "9131a83d",
   "metadata": {},
   "source": [
    "Se observa que cada template funcinoa correctamente en la imagen de la que fue obtenido.\n",
    "Tambien se puede ver que al utilizar un template obtenido de una imagen en otras no se obtienen buenos resultados y que los mismos dependen del template utilizado (el template que mejores resultados obtuvo fue **messi-1-template**)."
   ]
  },
  {
   "cell_type": "markdown",
   "id": "e39cb48f",
   "metadata": {},
   "source": [
    "## 2 - Prueba de tamaño\n",
    "\n",
    "Para intentar mejorar los resultados y dado que las imágenes tienen distintos tamaños, se hará una prueba reduciendo las imágenes en steps.\n",
    "- Se usará como template **messi-1-template**.\n",
    "- Se usará como método de comparación **TM_CCOEFF_NORMED**.\n",
    "- Se utilizará el método de interpolación **INTER_AREA** para reducir las imágenes ya que según indica la documentación es el mejor tipo a utilizar para este tipo de operaciones.\n"
   ]
  },
  {
   "cell_type": "code",
   "execution_count": null,
   "id": "43bc4312",
   "metadata": {
    "scrolled": false
   },
   "outputs": [],
   "source": [
    "filenames = (\"messi-1.jpg\",\n",
    "             \"messi-2.jpg\",\n",
    "             \"messi-3.jpg\",\n",
    "             \"messi-4-resized.jpg\",\n",
    "             \"messi-5-resized.jpg\",\n",
    "             \"messi-6-resized.jpg\")\n",
    "\n",
    "template = cv.imread(\"messi-1-template.jpg\", cv.IMREAD_GRAYSCALE)\n",
    "\n",
    "for filename in filenames:\n",
    "    print(\"processing image {0}...\".format(filename))\n",
    "\n",
    "    image = cv.imread(filename)\n",
    "    rgb_image = cv.cvtColor(image, cv.COLOR_BGR2RGB)\n",
    "    grayscale_image = cv.cvtColor(image, cv.COLOR_BGR2GRAY)\n",
    "    top_left, bottom_right = find_pattern(grayscale_image, template)\n",
    "\n",
    "    cv.rectangle(rgb_image, top_left, bottom_right, 255, 2)\n",
    "\n",
    "    plt.figure(filename)\n",
    "    plt.imshow(rgb_image)\n",
    "    plt.show()"
   ]
  },
  {
   "cell_type": "markdown",
   "id": "2be8365f",
   "metadata": {},
   "source": [
    "Se observa que a excepción de la última imagen, cuando el tamaño del template es similar al de la cara de Messi, ésta se pudo reconocer correctamente."
   ]
  },
  {
   "cell_type": "markdown",
   "id": "5f10c9a9",
   "metadata": {},
   "source": [
    "## Conclusión\n",
    "En las pruebas realizadas se observó que es importante la elección de un template adecuado así como también que este aparezca en las imágenes con un tamaño y orientación similar.\n",
    "También se observó que no es una buena técnica para reconocer objetos si no se conoce el tamaño del mismo en las imágenes de antemano con lo cual este escenario no es el óptimo para aplicarla.\n",
    "Se obtendrían mejores resultados en un escenario en el cual los objetos a reconocer tengan siempre la misma orientación, tamaño, iluminación etc como por ejemplo en una línea de montaje."
   ]
  }
 ],
 "metadata": {
  "kernelspec": {
   "display_name": "Python 3",
   "language": "python",
   "name": "python3"
  },
  "language_info": {
   "codemirror_mode": {
    "name": "ipython",
    "version": 3
   },
   "file_extension": ".py",
   "mimetype": "text/x-python",
   "name": "python",
   "nbconvert_exporter": "python",
   "pygments_lexer": "ipython3",
   "version": "3.8.10"
  }
 },
 "nbformat": 4,
 "nbformat_minor": 5
}
