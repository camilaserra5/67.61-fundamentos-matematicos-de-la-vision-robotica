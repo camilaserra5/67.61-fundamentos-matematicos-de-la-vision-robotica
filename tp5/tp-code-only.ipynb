{
 "cells": [
  {
   "cell_type": "code",
   "execution_count": null,
   "id": "d779a47e",
   "metadata": {},
   "outputs": [],
   "source": [
    "%matplotlib inline\n",
    "\n",
    "import numpy as np\n",
    "import cv2 as cv\n",
    "import matplotlib.pyplot as plt"
   ]
  },
  {
   "cell_type": "code",
   "execution_count": null,
   "id": "8b911a93",
   "metadata": {},
   "outputs": [],
   "source": [
    "def resize_image(image, scale):\n",
    "    image_height, image_width = image.shape\n",
    "    new_height = int(image_height * scale)\n",
    "    new_width = int(image_width * scale)\n",
    "\n",
    "    return cv.resize(image, (new_width, new_height), cv.INTER_AREA)\n",
    "\n",
    "def find_pattern(image, template):\n",
    "    template_height, template_width = template.shape\n",
    "\n",
    "    result = cv.matchTemplate(grayscale_image, template, cv.TM_CCOEFF_NORMED)\n",
    "\n",
    "    min_val, max_val, min_loc, max_loc = cv.minMaxLoc(result)\n",
    "\n",
    "    top_left = max_loc\n",
    "\n",
    "    bottom_right = (top_left[0] + template_width, top_left[1] + template_height)\n",
    "\n",
    "    return top_left, bottom_right"
   ]
  },
  {
   "cell_type": "code",
   "execution_count": null,
   "id": "92012376",
   "metadata": {},
   "outputs": [],
   "source": [
    "filenames = (\"messi-1.jpg\",\n",
    "             \"messi-2.jpg\",\n",
    "             \"messi-3.jpg\",\n",
    "             \"messi-4.jpg\",\n",
    "             \"messi-5.jpg\",\n",
    "             \"messi-6.jpg\")\n",
    "\n",
    "template_names = (\"messi-1-template.jpg\",\n",
    "                  \"messi-2-template.jpg\",\n",
    "                  \"messi-3-template.jpg\",\n",
    "                  \"messi-4-template.jpg\",\n",
    "                  \"messi-5-template.jpg\",\n",
    "                  \"messi-6-template.jpg\")\n",
    "\n",
    "for template_name in template_names:\n",
    "    print(\"======== Using template {0}\".format(template_name))\n",
    "\n",
    "    template = cv.imread(template_name, cv.IMREAD_GRAYSCALE)\n",
    "\n",
    "    for filename in filenames:\n",
    "        print(\"processing image {0}...\".format(filename))\n",
    "\n",
    "        image = cv.imread(filename)\n",
    "        rgb_image = cv.cvtColor(image, cv.COLOR_BGR2RGB)\n",
    "        grayscale_image = cv.cvtColor(image, cv.COLOR_BGR2GRAY)\n",
    "        top_left, bottom_right = find_pattern(grayscale_image, template)\n",
    "\n",
    "        cv.rectangle(rgb_image, top_left, bottom_right, 255, 2)\n",
    "\n",
    "        plt.figure(filename)\n",
    "        plt.imshow(rgb_image)\n",
    "        plt.show()\n"
   ]
  },
  {
   "cell_type": "code",
   "execution_count": null,
   "id": "43bc4312",
   "metadata": {
    "scrolled": false
   },
   "outputs": [],
   "source": [
    "filenames = (\"messi-1.jpg\",\n",
    "             \"messi-2.jpg\",\n",
    "             \"messi-3.jpg\",\n",
    "             \"messi-4-resized.jpg\",\n",
    "             \"messi-5-resized.jpg\",\n",
    "             \"messi-6-resized.jpg\")\n",
    "\n",
    "template = cv.imread(\"messi-1-template.jpg\", cv.IMREAD_GRAYSCALE)\n",
    "\n",
    "for filename in filenames:\n",
    "    print(\"processing image {0}...\".format(filename))\n",
    "\n",
    "    image = cv.imread(filename)\n",
    "    rgb_image = cv.cvtColor(image, cv.COLOR_BGR2RGB)\n",
    "    grayscale_image = cv.cvtColor(image, cv.COLOR_BGR2GRAY)\n",
    "    top_left, bottom_right = find_pattern(grayscale_image, template)\n",
    "\n",
    "    cv.rectangle(rgb_image, top_left, bottom_right, 255, 2)\n",
    "\n",
    "    plt.figure(filename)\n",
    "    plt.imshow(rgb_image)\n",
    "    plt.show()"
   ]
  }
 ],
 "metadata": {
  "kernelspec": {
   "display_name": "Python 3",
   "language": "python",
   "name": "python3"
  },
  "language_info": {
   "codemirror_mode": {
    "name": "ipython",
    "version": 3
   },
   "file_extension": ".py",
   "mimetype": "text/x-python",
   "name": "python",
   "nbconvert_exporter": "python",
   "pygments_lexer": "ipython3",
   "version": "3.8.10"
  }
 },
 "nbformat": 4,
 "nbformat_minor": 5
}
